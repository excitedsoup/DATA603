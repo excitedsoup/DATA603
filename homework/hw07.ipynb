{
 "cells": [
  {
   "cell_type": "code",
   "execution_count": 109,
   "id": "c0891ad5",
   "metadata": {},
   "outputs": [],
   "source": [
    "import pyspark\n",
    "from pyspark.ml import Pipeline\n",
    "from pyspark.sql import SparkSession\n",
    "from pyspark.sql.types import FloatType, StructType, StringType, TimestampType, StructField\n",
    "from pyspark.ml.classification import DecisionTreeClassifier\n",
    "from pyspark.ml.tuning import ParamGridBuilder, CrossValidator\n",
    "from pyspark.ml.evaluation import BinaryClassificationEvaluator\n",
    "from pyspark.ml.feature import StringIndexer, OneHotEncoder, VectorAssembler\n",
    "from pyspark.mllib.evaluation import BinaryClassificationMetrics"
   ]
  },
  {
   "cell_type": "code",
   "execution_count": 110,
   "id": "e51cf5fd",
   "metadata": {},
   "outputs": [],
   "source": [
    "spark = SparkSession.builder.getOrCreate()\n",
    "sc = spark.sparkContext\n",
    "\n",
    "weather_schema = StructType([\n",
    "    StructField('Date', TimestampType()),\n",
    "    StructField('Location', StringType()),\n",
    "    StructField('MinTemp', FloatType()),\n",
    "    StructField('MaxTemp', FloatType()),\n",
    "    StructField('Rainfall', FloatType()),\n",
    "    StructField('Evaporation', FloatType()),\n",
    "    StructField('Sunshine', FloatType()),\n",
    "    StructField('WindGustDir', StringType()),\n",
    "    StructField('WindGustSpeed', FloatType()),\n",
    "    StructField('WindDir9am', StringType()),\n",
    "    StructField('WindDir3pm', StringType()),\n",
    "    StructField('WindSpeed9am', FloatType()),\n",
    "    StructField('WindSpeed3pm', FloatType()),\n",
    "    StructField('Humidity9am', FloatType()),\n",
    "    StructField('Humidity3pm', FloatType()),\n",
    "    StructField('Pressure9am', FloatType()),\n",
    "    StructField('Pressure3pm', FloatType()),\n",
    "    StructField('Cloud9am', FloatType()),\n",
    "    StructField('Cloud3pm', FloatType()),\n",
    "    StructField('Temp9am', FloatType()),\n",
    "    StructField('Temp3pm', FloatType()),\n",
    "    StructField('RainToday', StringType()),\n",
    "    StructField('RainTomorrow', StringType())\n",
    "])"
   ]
  },
  {
   "cell_type": "code",
   "execution_count": 111,
   "id": "7a4dad4d",
   "metadata": {},
   "outputs": [],
   "source": [
    "df = spark.read.options(header = 'True').schema(weather_schema).csv('weatherAUS.csv')\n",
    "\n",
    "df = df.drop('Date')\n",
    "df = df.na.drop()\n",
    "\n",
    "df = df.filter(df.Location != 'NA')\n",
    "df = df.filter(df.WindGustDir != 'NA')\n",
    "df = df.filter(df.WindDir9am != 'NA')\n",
    "df = df.filter(df.WindDir3pm != 'NA')\n",
    "df = df.filter(df.RainToday != 'NA')\n",
    "df = df.filter(df.RainTomorrow != 'NA')"
   ]
  },
  {
   "cell_type": "code",
   "execution_count": 112,
   "id": "dda87392",
   "metadata": {},
   "outputs": [],
   "source": [
    "categoricalCols = (['Location', 'WindGustDir', 'WindDir9am',\n",
    "                    'WindDir3pm', 'RainToday', 'RainTomorrow'])\n",
    "\n",
    "stages = []\n",
    "\n",
    "for col in categoricalCols:\n",
    "    stringIndexer = StringIndexer(inputCol = col, outputCol = col + \"Index\")\n",
    "    encoder = OneHotEncoder(inputCols = [stringIndexer.getOutputCol()], outputCols = [col + 'classVec'])\n",
    "    stages += [stringIndexer, encoder]\n",
    "    \n",
    "label_stringIdx = StringIndexer(inputCol = 'RainTomorrow', outputCol = 'label')\n",
    "stages += [label_stringIdx]\n",
    "\n",
    "numericCols = (['MinTemp', 'MaxTemp', 'Rainfall', 'Evaporation', 'Sunshine', 'WindGustSpeed', 'WindSpeed9am',\n",
    "               'WindSpeed3pm', 'Humidity9am', 'Humidity3pm', 'Pressure9am', 'Pressure3pm', 'Cloud9am', 'Cloud3pm', 'Temp9am',\n",
    "               'Temp3pm'])\n",
    "assemblerInputs = [c + 'classVec' for c in categoricalCols] + numericCols\n",
    "assembler = VectorAssembler(inputCols = assemblerInputs, outputCol = 'features')\n",
    "\n",
    "stages += [assembler]\n",
    "\n",
    "partialPipeline = Pipeline().setStages(stages)\n",
    "pipelineModel = partialPipeline.fit(df)\n",
    "preppedDataDF = pipelineModel.transform(df)\n",
    "\n",
    "(trainingData, testData) = preppedDataDF.randomSplit([.8, .2], seed = 12345)"
   ]
  },
  {
   "cell_type": "code",
   "execution_count": 113,
   "id": "e251548a",
   "metadata": {},
   "outputs": [],
   "source": [
    "dt = DecisionTreeClassifier(labelCol = 'label', featuresCol = 'features')\n",
    "\n",
    "dtparamGrid = (ParamGridBuilder()\n",
    "             .addGrid(dt.maxBins, [5, 10, 15])\n",
    "             .addGrid(dt.maxDepth, [3, 5, 7])\n",
    "             .addGrid(dt.minInfoGain, [0.0, 0.2, 0.4])\n",
    "             .addGrid(dt.impurity, ['gini', 'entropy'])\n",
    "             .build())"
   ]
  },
  {
   "cell_type": "code",
   "execution_count": 153,
   "id": "27287cfd",
   "metadata": {},
   "outputs": [
    {
     "name": "stderr",
     "output_type": "stream",
     "text": [
      "                                                                                \r"
     ]
    }
   ],
   "source": [
    "dtEvaluator = BinaryClassificationEvaluator()\n",
    "\n",
    "dtCV = CrossValidator(estimator = dt,\n",
    "                     estimatorParamMaps = dtparamGrid,\n",
    "                     evaluator = dtEvaluator,\n",
    "                     numFolds = 3)\n",
    "\n",
    "dtCVmodel = dtCV.fit(trainingData)"
   ]
  },
  {
   "cell_type": "code",
   "execution_count": 154,
   "id": "300067eb",
   "metadata": {},
   "outputs": [
    {
     "name": "stdout",
     "output_type": "stream",
     "text": [
      "Accuracy:  1.0\n"
     ]
    },
    {
     "name": "stderr",
     "output_type": "stream",
     "text": [
      "/usr/local/spark/python/pyspark/sql/context.py:125: FutureWarning: Deprecated in 3.0.0. Use SparkSession.builder.getOrCreate() instead.\n",
      "  warnings.warn(\n"
     ]
    },
    {
     "name": "stdout",
     "output_type": "stream",
     "text": [
      "AUC:  1.0\n"
     ]
    }
   ],
   "source": [
    "dtPredictions = dtCVmodel.transform(testData)\n",
    "\n",
    "print('Accuracy: ', dtEvaluator.evaluate(dtPredictions))\n",
    "print('AUC: ', BinaryClassificationMetrics(dtPredictions['label', 'prediction'].rdd).areaUnderROC)\n",
    "\n",
    "#this seems wrong, but I'm not sure why it's doing this"
   ]
  },
  {
   "cell_type": "code",
   "execution_count": 198,
   "id": "7381bca1",
   "metadata": {},
   "outputs": [
    {
     "name": "stdout",
     "output_type": "stream",
     "text": [
      "Impurity: gini\n",
      "Max Bins: 5\n",
      "Depth: 1\n",
      "Min Info Gain: 0.0\n",
      "Number of Nodes: 3\n"
     ]
    }
   ],
   "source": [
    "best_model = dtCVmodel.bestModel\n",
    "\n",
    "print('Impurity: ' + best_model.getImpurity())\n",
    "print('Max Bins: ' + str(best_model.getMaxBins()))\n",
    "print('Depth: ' + str(best_model.depth))\n",
    "print('Min Info Gain: ' + str(best_model.getMinInfoGain()))\n",
    "print('Number of Nodes: ' + str(best_model.numNodes))"
   ]
  },
  {
   "cell_type": "code",
   "execution_count": null,
   "id": "0b40f37c",
   "metadata": {},
   "outputs": [],
   "source": []
  }
 ],
 "metadata": {
  "kernelspec": {
   "display_name": "Python 3 (ipykernel)",
   "language": "python",
   "name": "python3"
  },
  "language_info": {
   "codemirror_mode": {
    "name": "ipython",
    "version": 3
   },
   "file_extension": ".py",
   "mimetype": "text/x-python",
   "name": "python",
   "nbconvert_exporter": "python",
   "pygments_lexer": "ipython3",
   "version": "3.9.7"
  }
 },
 "nbformat": 4,
 "nbformat_minor": 5
}
