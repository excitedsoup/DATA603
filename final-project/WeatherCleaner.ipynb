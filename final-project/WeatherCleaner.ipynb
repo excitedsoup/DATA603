{
 "cells": [
  {
   "cell_type": "code",
   "execution_count": 3,
   "id": "73dc04b2",
   "metadata": {},
   "outputs": [],
   "source": [
    "import pandas as pd\n",
    "\n",
    "df = pd.concat(map(pd.read_csv, ['2012_2013.csv', '2014_2015.csv', '2016_2017.csv', '2018_2019.csv']), ignore_index = True)\n",
    "\n",
    "df = df[df['AWND'].notna()]\n",
    "df = df[df['PRCP'].notna()]\n",
    "df = df[df['SNOW'].notna()]\n",
    "df = df[df['SNWD'].notna()]\n",
    "df = df[df['TAVG'].notna()]\n",
    "\n",
    "#print(df['DATE'].unique())\n",
    "\n",
    "n = []\n",
    "\n",
    "for i in df['DATE']:\n",
    "    if(i[0:7] not in n):\n",
    "        n.append(i[0:7])\n",
    "\n",
    "\n",
    "df.drop_duplicates('DATE', inplace = True)\n",
    "\n",
    "\n",
    "df.to_csv('combined.csv', index=True)"
   ]
  }
 ],
 "metadata": {
  "kernelspec": {
   "display_name": "Python 3 (ipykernel)",
   "language": "python",
   "name": "python3"
  },
  "language_info": {
   "codemirror_mode": {
    "name": "ipython",
    "version": 3
   },
   "file_extension": ".py",
   "mimetype": "text/x-python",
   "name": "python",
   "nbconvert_exporter": "python",
   "pygments_lexer": "ipython3",
   "version": "3.8.11"
  }
 },
 "nbformat": 4,
 "nbformat_minor": 5
}
